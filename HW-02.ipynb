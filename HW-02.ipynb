{
 "cells": [
  {
   "cell_type": "markdown",
   "id": "fcba7ab9",
   "metadata": {},
   "source": [
    "# Assignment 2. Statistical Methods in Data Science\n",
    "\n",
    "*Foundations of Data Science*  \n",
    "*Dr. Khalaj (Fall 2023)*  \n",
    "\n",
    "*For your questions refer to asoleix@gmail.com or @amirsoleix on Telegram*\n",
    "\n",
    "### Description  \n",
    "In this homework you will again work with real-world data. <a href=\"https://en.wikipedia.org/wiki/Upworthy\"> **Upworthy**</a> is a news website dedicated to creating viral and positive content. During the lectures, you have seen (or soon will see) how maximizing user engagement and click-rate is of great importance and a main objective for such businesses.  \n",
    "\n",
    "### Information  \n",
    "Complete the information box below."
   ]
  },
  {
   "cell_type": "code",
   "execution_count": 66,
   "id": "9813d2ac",
   "metadata": {},
   "outputs": [],
   "source": [
    "full_name = 'Mahdi Hajialilue'\n",
    "student_id = '99100358'"
   ]
  },
  {
   "cell_type": "markdown",
   "id": "41f19621",
   "metadata": {},
   "source": [
    "Using the data from <a href=\"https://doi.org/10.1038/s41597-021-00934-7\">this paper</a> (provided in `data` folder), you are supposed to:\n",
    "- Use more advanced practices in Numpy, Pandas, Matplotlib frequently used in data science projects\n",
    "- Perform simple statistical analysis on real-world data\n",
    "- Go one step further and generalize your findings\n",
    "- Suggest insightful directions for improving the website's performance  \n",
    "\n",
    "\n",
    "\n",
    "### Notes  \n",
    "In the sections marked with **Discuss**, no coding is required. Just present your whole logic and the steps you took thinking and coming up with the result. You can provide your explanation either in **English** or **Persian**. There is no obligation to use any specific language.\n",
    "\n",
    "### Understanding the Problem\n",
    "As stated above, Upworthy is, in essence, a content creation and news delivery business. The process of creating a news-related post starts from the raw material and then proceeds to processing the information and presenting it in a way that engages the users, i.e. having them interact with the website, as much as possible.  \n",
    "\n",
    "We have discussed main objectives and income sources of various businesses and how data science can affect that. You must know that the main source of revenue and consequently the most important goal of Upworthy, is to get the most views and clicks per piece of news.  \n",
    "\n",
    "A typical form of presentation for news websites is to first show the user a headline together with a thumbnail and sometimes an excerpt (or **lede** as defined later). But it is a well-known fact that not all the headlines attract users the same.  \n",
    "\n",
    "There are always several possible headlines that can be used for a piece of news. Nonetheless, just one can be used for presenting each content and we know that there is no scientific or formulaic approach to predict which one will actually be the most interesting for the users.  \n",
    "\n",
    "**Here is where you data scientists are brought into field!**  \n",
    "The problem is simply to find which headline should be chosen for any individual post to maximize the website's profit. What solutions come to your mind? Can you think of a novel formula to mathematically calculate an indicator of the headlines attractiveness? What about its engaging rate?\n",
    "\n",
    "\n",
    "### Discuss\n",
    "What possible solutions can you think of for this problem? Can you solve it mathematically? If so explain your solution, and if not, explain why do you think it's not feasible?"
   ]
  },
  {
   "cell_type": "markdown",
   "id": "15649ce8-4ab7-458a-b842-341b51b09933",
   "metadata": {},
   "source": [
    "We adopt an A/B testing methodology where users are randomly assigned different headlines, and their engagement and time spent on the website are monitored. This approach bears resemblance to the $\\epsilon$-greedy strategy employed in multi-armed bandit scenarios within Reinforcement Learning, where $\\epsilon$ assumes values like 0.1 or 0.01. The headline generating higher engagement yields greater rewards, shifting the probability for a random user to view that headline towards certainty (1-$\\epsilon$), while other headlines reduce to a probability of $\\epsilon$. Consequently, if an alternative headline outperforms the current champion, it supersedes as the primary headline."
   ]
  },
  {
   "cell_type": "markdown",
   "id": "1a794a27",
   "metadata": {},
   "source": [
    "### Continuing with data science...\n",
    "\n",
    "As you have learnt during the past lectures, the first step to understand the problem, as carried out by the scientists hired by Upworthy, is to collect as much data as available. Then they have performed simple statistical analysis to understand wether one headline is significantly impacting the users' interaction with the website."
   ]
  },
  {
   "cell_type": "markdown",
   "id": "65c12467",
   "metadata": {},
   "source": [
    "Throughout this homework, we will analyze data from A/B tests of headlines conducted by Upworthy from January 2013 to April 2015 to study whether the language used in the headline determines the number of people that will read the associated news piece.  \n",
    "The homework contains four tasks:  \n",
    "1. Processing the data  \n",
    "2. Extracting meaningful signals from the data\n",
    "3. Testing whether the language of headlines impacts their success  \n",
    "4. Exploring the heterogeneity of this effects (e.g., does it vary through time?).\n"
   ]
  },
  {
   "cell_type": "markdown",
   "id": "daf2bc72",
   "metadata": {},
   "source": [
    "### **What is an A/B test?** \n",
    "A/B tests are experiments that compare two scenarios (e.g., scenario A vs. scenario B). \n",
    "They test subjects' responses to each of the variants to determine which is more effective ([read more about A/B tests on Wikipedia](https://en.wikipedia.org/wiki/A/B_testing)).  \n",
    "A/B tests allow us to draw conclusions about the different scenarios by randomizing exposure to them, e.g., one could flip a coin and assign a user to scenario A if it lands heads and to B if it lands tails.  \n",
    "Since exposure is randomized, we can be confident that the scenarios are the sole explanation for statistically significant differences in subjects' responses (if they exist).  \n",
    "In theory, A/B testing refers to an experiment that compares two scenarios; however, in practice, the term is also used when we compare multiple scenarios (e.g., A vs. B vs. C), although the more precise terminology would be to call such an experiment a \"multinomial test.\""
   ]
  },
  {
   "cell_type": "markdown",
   "id": "befd6ed0",
   "metadata": {},
   "source": [
    "### **How were A/B tests used by Upworthy?** \n",
    "Upworthy used A/B testing to increase news readership, conducting experiments for each published news piece.  \n",
    "In each experiment, they created multiple \"packages\" of stimuli, varying headlines, images, excerpts, and **ledes** for the same news piece.  \n",
    "Different \"packages\" were shown on their (now defunct) website to engage users with the news pieces they produced. Upworthy found \"the best\" package by conducting A/B tests, showing different packages to different users, and measuring how often users clicked on each version.  \n",
    "Below, we show three \"packages\" used by Upworthy in an experiment, each with a different headline for the same news piece.  \n",
    "Upworthy randomized users that visited their website saw one of the three versions of the headline below. Then, they measured the percentage of times users in each scenario clicked to read the news.  \n",
    "The headline with the highest percentage of clicks per view (click through rate) was then declared the \"winner\" and became the default for all visitors.\n",
    "\n",
    "![Example A/B test](example.png)"
   ]
  },
  {
   "cell_type": "markdown",
   "id": "97f63add",
   "metadata": {},
   "source": [
    "### **Terminology**\n",
    "\n",
    "- **News piece:** A news article. In the dataset considered, these were all produced by Upworthy.\n",
    "- **Package:** The set of visual stimuli inviting the user to read an article. The figure above shows a package with a headline and an image. At times, there was an excerpt of the article also shown in the package and/or the **lede**, i.e., [\"the introductory section of a news story that is intended to entice the reader to read the full story.\"](https://www.merriam-webster.com/words-at-play/bury-the-lede-versus-lead#:~:text=In%20journalism%2C%20the%20lede%20refers,machines%20began%20disappearing%20from%20newsrooms.)\n",
    "- **Experiment:** Each experiment is an A/B test (or multinomial test, to be more precise) comparing how users reacted to different \"packages.\" Experiments measured two things: \n",
    "  1. how many users were shown each package.\n",
    "  2. how many individuals clicked each package.\n"
   ]
  },
  {
   "cell_type": "markdown",
   "id": "e2e6c2d9",
   "metadata": {},
   "source": [
    "### **Data description**\n",
    "\n",
    "| Column name          | Description                                                                                                                                    \n",
    "|----------------------|---------------------------------------------------------------------------------------------------------------------------------------------------------------------------------------------------|\n",
    "| created_at           | Time the package was created (timezone unknown)|\n",
    "| test_week            | Week the package was created, a variable constructed by the archive creators for stratified random sampling|\n",
    "| clickability_test_id | The test ID. Viewers were randomly assigned to packages with the same test ID|\n",
    "| impressions          | The number of viewers who were assigned to this package. The total number of participants for a given test is the sum of impressions for all packages that share the same clickability_test_id|\n",
    "| headline             | The headline being tested|\n",
    "| eyecatcher_id        | Image ID. Image files are not available. Packages that shared the same image have the same eyecatcher_id|\n",
    "| clicks               | The number of viewers (impressions) that clicked on the package. The clickrate for a given package is the number of clicks divided by the number of impressions|\n",
    "| excerpt              | Article excerpt|\n",
    "| lede                 | The opening sentence or paragraph of the story|\n",
    "| slug                 | Internal name for the web address|\n",
    "| share_text           | Summary for display on social media when the article is shared. This was not shown in tests, since tests were conducted on the Upworthy website|\n",
    "| square               | When used, part of the same social media sharing suggestion as the share text|\n",
    "| significance         | NOT an estimate of statistical significance; a complex, inconsistent calculation that compared the clicks on a package to the clicks on all previous packages that were fielded on the same pages|\n",
    "| first_place          | Along with significance, shown to editors to guide decisions about what test to choose|\n",
    "| winner               | Whether a package was selected by editors to be used on the Upworthy site after the test|\n",
    "| updated_at           | The last time the package was updated in the Upworthy system|\n"
   ]
  },
  {
   "cell_type": "markdown",
   "id": "6a70396f",
   "metadata": {},
   "source": [
    "## 1 Getting Familiar with the Data\n",
    "\n",
    "Your first task is to conduct initial analyses to understand the data and process it in a way that will allow us to more easily answer our key question: *how does the language of a headline determine its success?*\n",
    "\n",
    "1.1 Load the data into memory using pandas and print the first lines to get a sense of it."
   ]
  },
  {
   "cell_type": "code",
   "execution_count": 16,
   "id": "f76d109b",
   "metadata": {},
   "outputs": [
    {
     "data": {
      "text/html": [
       "<div>\n",
       "<style scoped>\n",
       "    .dataframe tbody tr th:only-of-type {\n",
       "        vertical-align: middle;\n",
       "    }\n",
       "\n",
       "    .dataframe tbody tr th {\n",
       "        vertical-align: top;\n",
       "    }\n",
       "\n",
       "    .dataframe thead th {\n",
       "        text-align: right;\n",
       "    }\n",
       "</style>\n",
       "<table border=\"1\" class=\"dataframe\">\n",
       "  <thead>\n",
       "    <tr style=\"text-align: right;\">\n",
       "      <th></th>\n",
       "      <th>created_at</th>\n",
       "      <th>updated_at</th>\n",
       "      <th>clickability_test_id</th>\n",
       "      <th>excerpt</th>\n",
       "      <th>headline</th>\n",
       "      <th>lede</th>\n",
       "      <th>slug</th>\n",
       "      <th>eyecatcher_id</th>\n",
       "      <th>impressions</th>\n",
       "      <th>clicks</th>\n",
       "      <th>significance</th>\n",
       "      <th>first_place</th>\n",
       "      <th>winner</th>\n",
       "      <th>share_text</th>\n",
       "      <th>square</th>\n",
       "      <th>test_week</th>\n",
       "    </tr>\n",
       "  </thead>\n",
       "  <tbody>\n",
       "    <tr>\n",
       "      <th>0</th>\n",
       "      <td>2014-11-20 06:43:16.005</td>\n",
       "      <td>2016-04-02 16:33:38.062</td>\n",
       "      <td>546d88fb84ad38b2ce000024</td>\n",
       "      <td>Things that matter. Pass 'em on.</td>\n",
       "      <td>They're Being Called 'Walmart's Worst Nightmar...</td>\n",
       "      <td>&lt;p&gt;When I saw *why* people are calling them \"W...</td>\n",
       "      <td>theyre-being-called-walmarts-worst-nightmare-a...</td>\n",
       "      <td>546d6fa19ad54eec8d00002d</td>\n",
       "      <td>3052</td>\n",
       "      <td>150</td>\n",
       "      <td>100.0</td>\n",
       "      <td>True</td>\n",
       "      <td>True</td>\n",
       "      <td>Anyone who's ever felt guilty about shopping a...</td>\n",
       "      <td>NaN</td>\n",
       "      <td>201446</td>\n",
       "    </tr>\n",
       "    <tr>\n",
       "      <th>1</th>\n",
       "      <td>2014-11-20 06:54:36.335</td>\n",
       "      <td>2016-04-02 16:25:54.027</td>\n",
       "      <td>546d902c26714c6c44000039</td>\n",
       "      <td>Things that matter. Pass 'em on.</td>\n",
       "      <td>This Is What Sexism Against Men Sounds Like</td>\n",
       "      <td>&lt;p&gt;DISCLOSURE: I'm a dude. I have cried on mul...</td>\n",
       "      <td>this-is-what-sexism-against-men-sounds-like-am...</td>\n",
       "      <td>546bc55335992b86c8000043</td>\n",
       "      <td>3526</td>\n",
       "      <td>90</td>\n",
       "      <td>4.1</td>\n",
       "      <td>False</td>\n",
       "      <td>False</td>\n",
       "      <td>If you ever wondered, \"but what about the men?...</td>\n",
       "      <td>NaN</td>\n",
       "      <td>201446</td>\n",
       "    </tr>\n",
       "    <tr>\n",
       "      <th>2</th>\n",
       "      <td>2014-11-20 06:54:57.878</td>\n",
       "      <td>2016-04-02 16:31:45.671</td>\n",
       "      <td>546d902c26714c6c44000039</td>\n",
       "      <td>Things that matter. Pass 'em on.</td>\n",
       "      <td>This Is What Sexism Against Men Sounds Like</td>\n",
       "      <td>&lt;p&gt;DISCLOSURE: I'm a dude. I have cried on mul...</td>\n",
       "      <td>this-is-what-sexism-against-men-sounds-like-am...</td>\n",
       "      <td>546d900426714cd2dd00002e</td>\n",
       "      <td>3506</td>\n",
       "      <td>120</td>\n",
       "      <td>100.0</td>\n",
       "      <td>True</td>\n",
       "      <td>False</td>\n",
       "      <td>If you ever wondered, \"but what about the men?...</td>\n",
       "      <td>NaN</td>\n",
       "      <td>201446</td>\n",
       "    </tr>\n",
       "    <tr>\n",
       "      <th>3</th>\n",
       "      <td>2014-11-20 06:55:07.212</td>\n",
       "      <td>2016-04-02 16:25:54.029</td>\n",
       "      <td>546d902c26714c6c44000039</td>\n",
       "      <td>Things that matter. Pass 'em on.</td>\n",
       "      <td>This Is What Sexism Against Men Sounds Like</td>\n",
       "      <td>&lt;p&gt;DISCLOSURE: I'm a dude. I have cried on mul...</td>\n",
       "      <td>this-is-what-sexism-against-men-sounds-like-am...</td>\n",
       "      <td>546d900426714c6c44000038</td>\n",
       "      <td>3380</td>\n",
       "      <td>98</td>\n",
       "      <td>25.3</td>\n",
       "      <td>False</td>\n",
       "      <td>False</td>\n",
       "      <td>If you ever wondered, \"but what about the men?...</td>\n",
       "      <td>NaN</td>\n",
       "      <td>201446</td>\n",
       "    </tr>\n",
       "    <tr>\n",
       "      <th>4</th>\n",
       "      <td>2014-11-20 06:55:20.347</td>\n",
       "      <td>2016-04-02 16:25:54.032</td>\n",
       "      <td>546d902c26714c6c44000039</td>\n",
       "      <td>Things that matter. Pass 'em on.</td>\n",
       "      <td>This Is What Sexism Against Men Sounds Like</td>\n",
       "      <td>&lt;p&gt;DISCLOSURE: I'm a dude. I have cried on mul...</td>\n",
       "      <td>this-is-what-sexism-against-men-sounds-like-am...</td>\n",
       "      <td>546d900426714c1ad900001e</td>\n",
       "      <td>3465</td>\n",
       "      <td>75</td>\n",
       "      <td>0.2</td>\n",
       "      <td>False</td>\n",
       "      <td>False</td>\n",
       "      <td>If you ever wondered, \"but what about the men?...</td>\n",
       "      <td>NaN</td>\n",
       "      <td>201446</td>\n",
       "    </tr>\n",
       "  </tbody>\n",
       "</table>\n",
       "</div>"
      ],
      "text/plain": [
       "                created_at               updated_at      clickability_test_id  \\\n",
       "0  2014-11-20 06:43:16.005  2016-04-02 16:33:38.062  546d88fb84ad38b2ce000024   \n",
       "1  2014-11-20 06:54:36.335  2016-04-02 16:25:54.027  546d902c26714c6c44000039   \n",
       "2  2014-11-20 06:54:57.878  2016-04-02 16:31:45.671  546d902c26714c6c44000039   \n",
       "3  2014-11-20 06:55:07.212  2016-04-02 16:25:54.029  546d902c26714c6c44000039   \n",
       "4  2014-11-20 06:55:20.347  2016-04-02 16:25:54.032  546d902c26714c6c44000039   \n",
       "\n",
       "                            excerpt  \\\n",
       "0  Things that matter. Pass 'em on.   \n",
       "1  Things that matter. Pass 'em on.   \n",
       "2  Things that matter. Pass 'em on.   \n",
       "3  Things that matter. Pass 'em on.   \n",
       "4  Things that matter. Pass 'em on.   \n",
       "\n",
       "                                            headline  \\\n",
       "0  They're Being Called 'Walmart's Worst Nightmar...   \n",
       "1        This Is What Sexism Against Men Sounds Like   \n",
       "2        This Is What Sexism Against Men Sounds Like   \n",
       "3        This Is What Sexism Against Men Sounds Like   \n",
       "4        This Is What Sexism Against Men Sounds Like   \n",
       "\n",
       "                                                lede  \\\n",
       "0  <p>When I saw *why* people are calling them \"W...   \n",
       "1  <p>DISCLOSURE: I'm a dude. I have cried on mul...   \n",
       "2  <p>DISCLOSURE: I'm a dude. I have cried on mul...   \n",
       "3  <p>DISCLOSURE: I'm a dude. I have cried on mul...   \n",
       "4  <p>DISCLOSURE: I'm a dude. I have cried on mul...   \n",
       "\n",
       "                                                slug  \\\n",
       "0  theyre-being-called-walmarts-worst-nightmare-a...   \n",
       "1  this-is-what-sexism-against-men-sounds-like-am...   \n",
       "2  this-is-what-sexism-against-men-sounds-like-am...   \n",
       "3  this-is-what-sexism-against-men-sounds-like-am...   \n",
       "4  this-is-what-sexism-against-men-sounds-like-am...   \n",
       "\n",
       "              eyecatcher_id  impressions  clicks  significance  first_place  \\\n",
       "0  546d6fa19ad54eec8d00002d         3052     150         100.0         True   \n",
       "1  546bc55335992b86c8000043         3526      90           4.1        False   \n",
       "2  546d900426714cd2dd00002e         3506     120         100.0         True   \n",
       "3  546d900426714c6c44000038         3380      98          25.3        False   \n",
       "4  546d900426714c1ad900001e         3465      75           0.2        False   \n",
       "\n",
       "   winner                                         share_text square  test_week  \n",
       "0    True  Anyone who's ever felt guilty about shopping a...    NaN     201446  \n",
       "1   False  If you ever wondered, \"but what about the men?...    NaN     201446  \n",
       "2   False  If you ever wondered, \"but what about the men?...    NaN     201446  \n",
       "3   False  If you ever wondered, \"but what about the men?...    NaN     201446  \n",
       "4   False  If you ever wondered, \"but what about the men?...    NaN     201446  "
      ]
     },
     "execution_count": 16,
     "metadata": {},
     "output_type": "execute_result"
    }
   ],
   "source": [
    "import numpy as np\n",
    "import pandas as pd\n",
    "import matplotlib.pyplot as plt\n",
    "import seaborn as sns\n",
    "\n",
    "df = pd.read_csv('data/upworthy.csv')\n",
    "df.head()"
   ]
  },
  {
   "cell_type": "markdown",
   "id": "7c207441",
   "metadata": {},
   "source": [
    "1.2 Each experiment comparing different versions of the same news piece (\"packages\") has a unique identifier (`clickability_test_id` column). \n",
    "Calculate how many different experiments were conducted in this dataset and, on average, how many packages were considered per experiment.  \n",
    "Last, plot the distribution of packages per experiment with a visualization of your choice."
   ]
  },
  {
   "cell_type": "code",
   "execution_count": 17,
   "id": "fb5d77a4",
   "metadata": {},
   "outputs": [
    {
     "name": "stdout",
     "output_type": "stream",
     "text": [
      "Number of different experiments: 4822\n",
      "Packages per experiment: 4.2727084197428455\n"
     ]
    },
    {
     "data": {
      "image/png": "[encoded data removed]",
      "text/plain": [
       "<Figure size 640x480 with 1 Axes>"
      ]
     },
     "metadata": {},
     "output_type": "display_data"
    }
   ],
   "source": [
    "num_experiments = df['clickability_test_id'].nunique()\n",
    "print('Number of different experiments:', num_experiments)\n",
    "\n",
    "packages_per_experiment = len(df) / num_experiments\n",
    "print('Packages per experiment:', packages_per_experiment)\n",
    "\n",
    "packages_counts = df.groupby('clickability_test_id').size()\n",
    "plt.hist(packages_counts, bins=10, color='green', edgecolor='black')\n",
    "plt.xlabel('Number of Packages')\n",
    "plt.ylabel('Frequency')\n",
    "plt.title('Distribution of Packages per Experiment')\n",
    "plt.show()"
   ]
  },
  {
   "cell_type": "markdown",
   "id": "bc2974a6",
   "metadata": {},
   "source": [
    "1.3 A common way to measure success in online A/B tests is what is called \"the clickthrough rate.\"\n",
    "Given that often A/B tests are created to find what engages users (here, \"packages\" of headlines, images, etc), we would expect that a \"good\" package makes people click often.  \n",
    "Create a column named `ctr` by dividing the number of clicks a package received (`clicks` column) by the number of impressions it received (`impressions` column)."
   ]
  },
  {
   "cell_type": "code",
   "execution_count": 18,
   "id": "de03227f",
   "metadata": {},
   "outputs": [],
   "source": [
    "df['ctr'] = df['clicks']/df['impressions']"
   ]
  },
  {
   "cell_type": "markdown",
   "id": "935bb458",
   "metadata": {},
   "source": [
    "1.4 Packages varied any combination of the headline (`headline` column), the excerpt (`excerpt`), the first sentence of the article (`lede`), and the image that illustrates the news piece (`eyecatcher_id`, a hash per image).  \n",
    "But we want to isolate the effect of the headline on the clickthrough rate. To do that, create a new dataframe where you filter all experiments where only one headline is present.  \n",
    "Print the length of this new dataframe and how many experiments were discarded in the filtering process."
   ]
  },
  {
   "cell_type": "code",
   "execution_count": 19,
   "id": "ed32f8d4",
   "metadata": {},
   "outputs": [
    {
     "name": "stdout",
     "output_type": "stream",
     "text": [
      "Initial number of tests: 4822\n",
      "Number of discarded removed: 2236\n",
      "Number of tests after filtering: 2586\n"
     ]
    }
   ],
   "source": [
    "\n",
    "initial_package_count = len(df['clickability_test_id'].unique())\n",
    "\n",
    "\n",
    "no_variation_packages = df.groupby('clickability_test_id').filter(lambda x: x['headline'].nunique() == 1)\n",
    "\n",
    "new_df_headline = df[~df['clickability_test_id'].isin(no_variation_packages['clickability_test_id'])]\n",
    "\n",
    "\n",
    "remaining_package_count = len(new_df_headline['clickability_test_id'].unique())\n",
    "\n",
    "print(\"Initial number of tests:\", initial_package_count)\n",
    "print(\"Number of discarded removed:\", initial_package_count - remaining_package_count)\n",
    "print(\"Number of tests after filtering:\", remaining_package_count)"
   ]
  },
  {
   "cell_type": "markdown",
   "id": "7b3f38f9",
   "metadata": {},
   "source": [
    "1.5 For comparison, repeat the procedure described in **T1.4** with the `eyecatcher_id` column, i.e., create a dataframe considering only experiments that vary the image. Again, print the length of this new dataframe and how many experiments were discarded in the filtering process.\n"
   ]
  },
  {
   "cell_type": "code",
   "execution_count": 20,
   "id": "480fc26d",
   "metadata": {},
   "outputs": [
    {
     "name": "stdout",
     "output_type": "stream",
     "text": [
      "Initial number of tests: 4822\n",
      "Number of discarded removed: 3103\n",
      "Number of tests after filtering: 1719\n"
     ]
    }
   ],
   "source": [
    "initial_package_count = len(df['clickability_test_id'].unique())\n",
    "\n",
    "\n",
    "no_variation_packages = df.groupby('clickability_test_id').filter(lambda x: x['eyecatcher_id'].nunique() == 1)\n",
    "\n",
    "\n",
    "new_df_image = df[~df['clickability_test_id'].isin(no_variation_packages['clickability_test_id'])]\n",
    "\n",
    "\n",
    "remaining_package_count = len(new_df_image['clickability_test_id'].unique())\n",
    "\n",
    "\n",
    "\n",
    "print(\"Initial number of tests:\", initial_package_count)\n",
    "print(\"Number of discarded removed:\", initial_package_count - remaining_package_count)\n",
    "print(\"Number of tests after filtering:\", remaining_package_count)"
   ]
  },
  {
   "cell_type": "markdown",
   "id": "0379f1fa",
   "metadata": {},
   "source": [
    "1.6 Considering the answers to questions **T1.4** and **T1.5**, what can we say about the different versions of the news tested by Upworthy?"
   ]
  },
  {
   "cell_type": "markdown",
   "id": "f07c0906",
   "metadata": {},
   "source": [
    "Upworthy has conducted a greater number of experiments analyzing the impact of headlines on click rates compared to the number of tests focused on evaluating the influence of thumbnails or images on click rates."
   ]
  },
  {
   "cell_type": "markdown",
   "id": "bfbac8dd",
   "metadata": {},
   "source": [
    "1.7 For our subsequent analysis, we want to compare the causal effect of headlines on the success of a news piece. \n",
    "For that, we can compare pairs of packages with the same `eyecatcher_id`, `lede`, and `excerpt`, but different `headlines`.\n",
    "Note that this means that if an experiment considered 5 different headlines and did not vary any other stimulus, we would have 5C2 (i.e., 5 choose 2, 10) pairs to consider.\n",
    "Create a dataset where:\n",
    "- Each row corresponds to a pair of packages with different `headline` but the same `eyecatcher_id`, `lede`, and `excerpt`. \n",
    "- There are columns containing the headlines of each of the news versions (`headline1`, `headline2`) and the clickthrough rate of each of the news versions (`ctr1`, `ctr2`). \n",
    "- The columns `headline1` and `ctr1` contain the data associated with the news version with the highest clickthrough rate. Print the first rows of your newly created dataframe, as well as its length.\n",
    "-  The rows where the two news pieces had exactly the same clickthrough rate should be filtered out (this is for simplicity's sake).\n",
    "-  The column `date_created` contains the date when the news version with the highest clickthrough rate was created.\n"
   ]
  },
  {
   "cell_type": "code",
   "execution_count": 21,
   "id": "1984d27c",
   "metadata": {},
   "outputs": [],
   "source": [
    "from itertools import combinations\n",
    "\n",
    "# Assuming df is your DataFrame\n",
    "\n",
    "# Grouping the data by unique combinations of 'eyecatcher_id', 'lede', 'excerpt', and 'clickability_test_id'\n",
    "grouped = new_df_headline.groupby(['eyecatcher_id', 'lede', 'excerpt', 'clickability_test_id'])\n",
    "\n",
    "pairs = []\n",
    "for name, group in grouped:\n",
    "    combinations_list = list(combinations(group.index, 2))\n",
    "    for pair_idx1, pair_idx2 in combinations_list:\n",
    "        row1 = group.loc[pair_idx1]\n",
    "        row2 = group.loc[pair_idx2]\n",
    "        \n",
    "        if row1['headline'] != row2['headline']:\n",
    "            similiar_values = {\n",
    "                'eyecatcher_id': row1['eyecatcher_id'],\n",
    "                'lede': row1['lede'],\n",
    "                'excerpt': row1['excerpt'],\n",
    "                'clickability_test_id': row1['clickability_test_id']\n",
    "            }\n",
    "            \n",
    "            different_values = {\n",
    "                'ctr1': row1['ctr'] if row1['ctr'] >= row2['ctr'] else row2['ctr'],\n",
    "                'ctr2': row2['ctr'] if row1['ctr'] >= row2['ctr'] else row1['ctr'],\n",
    "                'headline1': row1['headline'] if row1['ctr'] >= row2['ctr'] else row2['headline'],\n",
    "                'headline2': row2['headline'] if row1['ctr'] >= row2['ctr'] else row1['headline'],\n",
    "                'date_created': row1['created_at'] if row1['ctr'] >= row2['ctr'] else row2['created_at']\n",
    "\n",
    "            }\n",
    "        \n",
    "            pairs.append({**similiar_values, **different_values})\n",
    "\n",
    "new_df_pair = pd.DataFrame(pairs)"
   ]
  },
  {
   "cell_type": "code",
   "execution_count": 22,
   "metadata": {},
   "outputs": [
    {
     "data": {
      "text/html": [
       "<div>\n",
       "<style scoped>\n",
       "    .dataframe tbody tr th:only-of-type {\n",
       "        vertical-align: middle;\n",
       "    }\n",
       "\n",
       "    .dataframe tbody tr th {\n",
       "        vertical-align: top;\n",
       "    }\n",
       "\n",
       "    .dataframe thead th {\n",
       "        text-align: right;\n",
       "    }\n",
       "</style>\n",
       "<table border=\"1\" class=\"dataframe\">\n",
       "  <thead>\n",
       "    <tr style=\"text-align: right;\">\n",
       "      <th></th>\n",
       "      <th>eyecatcher_id</th>\n",
       "      <th>lede</th>\n",
       "      <th>excerpt</th>\n",
       "      <th>clickability_test_id</th>\n",
       "      <th>ctr1</th>\n",
       "      <th>ctr2</th>\n",
       "      <th>headline1</th>\n",
       "      <th>headline2</th>\n",
       "      <th>date_created</th>\n",
       "    </tr>\n",
       "  </thead>\n",
       "  <tbody>\n",
       "    <tr>\n",
       "      <th>0</th>\n",
       "      <td>5332b4f11fae79f09f0000a8</td>\n",
       "      <td>&lt;p&gt;Somewhere in between the vast, evil conspir...</td>\n",
       "      <td>Things that matter. Pass 'em on.</td>\n",
       "      <td>532088a8c532cfc755000042</td>\n",
       "      <td>0.023810</td>\n",
       "      <td>0.010676</td>\n",
       "      <td>I Never Would Have Noticed This Crazy Gender I...</td>\n",
       "      <td>Numbers We Need To Know About The Names We See...</td>\n",
       "      <td>2014-03-12 22:10:26.299</td>\n",
       "    </tr>\n",
       "    <tr>\n",
       "      <th>1</th>\n",
       "      <td>5332b4f11fae79f09f0000a8</td>\n",
       "      <td>&lt;p&gt;Somewhere in between the vast, evil conspir...</td>\n",
       "      <td>Things that matter. Pass 'em on.</td>\n",
       "      <td>532088a8c532cfc755000042</td>\n",
       "      <td>0.020756</td>\n",
       "      <td>0.010676</td>\n",
       "      <td>A Group Of Women Had A Hypothesis About Sexism...</td>\n",
       "      <td>Numbers We Need To Know About The Names We See...</td>\n",
       "      <td>2014-03-12 22:05:12.68</td>\n",
       "    </tr>\n",
       "    <tr>\n",
       "      <th>2</th>\n",
       "      <td>5332b4f11fae79f09f0000a8</td>\n",
       "      <td>&lt;p&gt;Somewhere in between the vast, evil conspir...</td>\n",
       "      <td>Things that matter. Pass 'em on.</td>\n",
       "      <td>532088a8c532cfc755000042</td>\n",
       "      <td>0.021956</td>\n",
       "      <td>0.010676</td>\n",
       "      <td>The Unconscious Biases Of Even Extremely Educa...</td>\n",
       "      <td>Numbers We Need To Know About The Names We See...</td>\n",
       "      <td>2014-03-12 22:02:20.69</td>\n",
       "    </tr>\n",
       "    <tr>\n",
       "      <th>3</th>\n",
       "      <td>5332b4f11fae79f09f0000a8</td>\n",
       "      <td>&lt;p&gt;Somewhere in between the vast, evil conspir...</td>\n",
       "      <td>Things that matter. Pass 'em on.</td>\n",
       "      <td>532088a8c532cfc755000042</td>\n",
       "      <td>0.014019</td>\n",
       "      <td>0.010676</td>\n",
       "      <td>Feel Like It's Still A Man's World? It's Not A...</td>\n",
       "      <td>Numbers We Need To Know About The Names We See...</td>\n",
       "      <td>2014-03-12 21:59:41.066</td>\n",
       "    </tr>\n",
       "    <tr>\n",
       "      <th>4</th>\n",
       "      <td>5332b4f11fae79f09f0000a8</td>\n",
       "      <td>&lt;p&gt;Somewhere in between the vast, evil conspir...</td>\n",
       "      <td>Things that matter. Pass 'em on.</td>\n",
       "      <td>532088a8c532cfc755000042</td>\n",
       "      <td>0.012302</td>\n",
       "      <td>0.010676</td>\n",
       "      <td>Care To Guess Which Sacred Publications Have L...</td>\n",
       "      <td>Numbers We Need To Know About The Names We See...</td>\n",
       "      <td>2014-03-12 17:21:32.477</td>\n",
       "    </tr>\n",
       "  </tbody>\n",
       "</table>\n",
       "</div>"
      ],
      "text/plain": [
       "              eyecatcher_id  \\\n",
       "0  5332b4f11fae79f09f0000a8   \n",
       "1  5332b4f11fae79f09f0000a8   \n",
       "2  5332b4f11fae79f09f0000a8   \n",
       "3  5332b4f11fae79f09f0000a8   \n",
       "4  5332b4f11fae79f09f0000a8   \n",
       "\n",
       "                                                lede  \\\n",
       "0  <p>Somewhere in between the vast, evil conspir...   \n",
       "1  <p>Somewhere in between the vast, evil conspir...   \n",
       "2  <p>Somewhere in between the vast, evil conspir...   \n",
       "3  <p>Somewhere in between the vast, evil conspir...   \n",
       "4  <p>Somewhere in between the vast, evil conspir...   \n",
       "\n",
       "                            excerpt      clickability_test_id      ctr1  \\\n",
       "0  Things that matter. Pass 'em on.  532088a8c532cfc755000042  0.023810   \n",
       "1  Things that matter. Pass 'em on.  532088a8c532cfc755000042  0.020756   \n",
       "2  Things that matter. Pass 'em on.  532088a8c532cfc755000042  0.021956   \n",
       "3  Things that matter. Pass 'em on.  532088a8c532cfc755000042  0.014019   \n",
       "4  Things that matter. Pass 'em on.  532088a8c532cfc755000042  0.012302   \n",
       "\n",
       "       ctr2                                          headline1  \\\n",
       "0  0.010676  I Never Would Have Noticed This Crazy Gender I...   \n",
       "1  0.010676  A Group Of Women Had A Hypothesis About Sexism...   \n",
       "2  0.010676  The Unconscious Biases Of Even Extremely Educa...   \n",
       "3  0.010676  Feel Like It's Still A Man's World? It's Not A...   \n",
       "4  0.010676  Care To Guess Which Sacred Publications Have L...   \n",
       "\n",
       "                                           headline2             date_created  \n",
       "0  Numbers We Need To Know About The Names We See...  2014-03-12 22:10:26.299  \n",
       "1  Numbers We Need To Know About The Names We See...   2014-03-12 22:05:12.68  \n",
       "2  Numbers We Need To Know About The Names We See...   2014-03-12 22:02:20.69  \n",
       "3  Numbers We Need To Know About The Names We See...  2014-03-12 21:59:41.066  \n",
       "4  Numbers We Need To Know About The Names We See...  2014-03-12 17:21:32.477  "
      ]
     },
     "execution_count": 22,
     "metadata": {},
     "output_type": "execute_result"
    }
   ],
   "source": [
    "new_df_pair.head()"
   ]
  },
  {
   "cell_type": "markdown",
   "id": "5f5dc3da",
   "metadata": {},
   "source": [
    "1.8 To get a sense of the impact of headline change, measure the average difference per pair between the most clicked-through (`ctr1`) and the least clicked-through headline (`ctr2`), as well as the average clickthrough rate for the least clicked through headline (`ctr2`)."
   ]
  },
  {
   "cell_type": "code",
   "execution_count": 23,
   "id": "991b7d38",
   "metadata": {},
   "outputs": [
    {
     "name": "stdout",
     "output_type": "stream",
     "text": [
      "average pair difference:  0.004131043605885015\n",
      "average loser rate:  0.011019134928740962\n",
      "ratio:  1.3748972703029625\n"
     ]
    }
   ],
   "source": [
    "average_difference_per_pair = new_df_pair['ctr1'].sub(new_df_pair['ctr2']).mean()\n",
    "\n",
    "average_least_clicked_rate = new_df_pair['ctr2'].mean()\n",
    "\n",
    "print('average pair difference: ', average_difference_per_pair)\n",
    "print('average loser rate: ', average_least_clicked_rate)\n",
    "print('ratio: ', (average_difference_per_pair + average_least_clicked_rate)/average_least_clicked_rate)"
   ]
  },
  {
   "cell_type": "markdown",
   "id": "7b640175",
   "metadata": {},
   "source": [
    " 1.9 **Discuss:** Considering your answer to **T1.8**, and assuming the average differences in clickthrough rates between pairs are statistically significant, do you think that headlines are impactful in the news business? Justify with the data."
   ]
  },
  {
   "cell_type": "markdown",
   "metadata": {},
   "source": [
    "Evidently, the winner headlines on average have more clickthrough rate than loser headline which is substantial given the sample size. So it is clear that headline is an important feature in a news piece that needs much attention to help make a piece have a high clickthrough rate."
   ]
  },
  {
   "cell_type": "markdown",
   "id": "84bf9828",
   "metadata": {},
   "source": [
    "## 2 Extracting Signals from the Data\n",
    "\n",
    "Your second task is to extract meaningful signals from the data.  \n",
    "We start this task from the dataset obtained in **T1.7**.   \n",
    "Recall that we have one A/B test per row with the clickthrough rate of two news pieces that differ only in their headline.  \n",
    "We refer to the version with the higher clickthrough rate as the \"winner\" and the version with the lower as the \"loser.\"  \n",
    "(Note that this is not the same as the column `winner` in the original data, which captures a similar concept but considering the original experiments, where multiple comparisons were made!)  \n",
    " \n",
    "2.1 Using the function provided below, count the number of words in each headline, creating columns `numwords1` and `numwords2` corresponding to the number of words in the winner and loser headlines."
   ]
  },
  {
   "cell_type": "code",
   "execution_count": 24,
   "id": "3cee2257",
   "metadata": {},
   "outputs": [],
   "source": [
    "new_df_pair['numwords1'] = new_df_pair['headline1'].apply(count_words_simple)\n",
    "new_df_pair['numwords2'] = new_df_pair['headline2'].apply(count_words_simple)\n"
   ]
  },
  {
   "cell_type": "markdown",
   "id": "d7eb327b",
   "metadata": {},
   "source": [
    "2.2 Using the dictionary of pronouns provided below, create indicator variables corresponding to each set of pronouns (e.g., first-person singular may yield columns `first_person_singular1` and `first_person_singular2` for the headlines in each A/B test). \n",
    "Each indicator variable in the dataframe should equal 1 if the corresponding headline uses the corresponding type of pronoun and 0 otherwise. \n",
    "Your code should be agnostic to lower/upper case."
   ]
  },
  {
   "cell_type": "code",
   "execution_count": 25,
   "metadata": {},
   "outputs": [
    {
     "data": {
      "text/html": [
       "<div>\n",
       "<style scoped>\n",
       "    .dataframe tbody tr th:only-of-type {\n",
       "        vertical-align: middle;\n",
       "    }\n",
       "\n",
       "    .dataframe tbody tr th {\n",
       "        vertical-align: top;\n",
       "    }\n",
       "\n",
       "    .dataframe thead th {\n",
       "        text-align: right;\n",
       "    }\n",
       "</style>\n",
       "<table border=\"1\" class=\"dataframe\">\n",
       "  <thead>\n",
       "    <tr style=\"text-align: right;\">\n",
       "      <th></th>\n",
       "      <th>eyecatcher_id</th>\n",
       "      <th>lede</th>\n",
       "      <th>excerpt</th>\n",
       "      <th>clickability_test_id</th>\n",
       "      <th>ctr1</th>\n",
       "      <th>ctr2</th>\n",
       "      <th>headline1</th>\n",
       "      <th>headline2</th>\n",
       "      <th>date_created</th>\n",
       "      <th>numwords1</th>\n",
       "      <th>...</th>\n",
       "      <th>first_person_singular1_indicator</th>\n",
       "      <th>first_person_singular2_indicator</th>\n",
       "      <th>first_person_plural1_indicator</th>\n",
       "      <th>first_person_plural2_indicator</th>\n",
       "      <th>second_person1_indicator</th>\n",
       "      <th>second_person2_indicator</th>\n",
       "      <th>third_person_singular1_indicator</th>\n",
       "      <th>third_person_singular2_indicator</th>\n",
       "      <th>third_person_plural1_indicator</th>\n",
       "      <th>third_person_plural2_indicator</th>\n",
       "    </tr>\n",
       "  </thead>\n",
       "  <tbody>\n",
       "    <tr>\n",
       "      <th>0</th>\n",
       "      <td>5332b4f11fae79f09f0000a8</td>\n",
       "      <td>&lt;p&gt;Somewhere in between the vast, evil conspir...</td>\n",
       "      <td>Things that matter. Pass 'em on.</td>\n",
       "      <td>532088a8c532cfc755000042</td>\n",
       "      <td>0.023810</td>\n",
       "      <td>0.010676</td>\n",
       "      <td>I Never Would Have Noticed This Crazy Gender I...</td>\n",
       "      <td>Numbers We Need To Know About The Names We See...</td>\n",
       "      <td>2014-03-12 22:10:26.299</td>\n",
       "      <td>16</td>\n",
       "      <td>...</td>\n",
       "      <td>1</td>\n",
       "      <td>1</td>\n",
       "      <td>1</td>\n",
       "      <td>1</td>\n",
       "      <td>0</td>\n",
       "      <td>0</td>\n",
       "      <td>1</td>\n",
       "      <td>1</td>\n",
       "      <td>0</td>\n",
       "      <td>0</td>\n",
       "    </tr>\n",
       "    <tr>\n",
       "      <th>1</th>\n",
       "      <td>5332b4f11fae79f09f0000a8</td>\n",
       "      <td>&lt;p&gt;Somewhere in between the vast, evil conspir...</td>\n",
       "      <td>Things that matter. Pass 'em on.</td>\n",
       "      <td>532088a8c532cfc755000042</td>\n",
       "      <td>0.020756</td>\n",
       "      <td>0.010676</td>\n",
       "      <td>A Group Of Women Had A Hypothesis About Sexism...</td>\n",
       "      <td>Numbers We Need To Know About The Names We See...</td>\n",
       "      <td>2014-03-12 22:05:12.68</td>\n",
       "      <td>19</td>\n",
       "      <td>...</td>\n",
       "      <td>1</td>\n",
       "      <td>1</td>\n",
       "      <td>0</td>\n",
       "      <td>1</td>\n",
       "      <td>0</td>\n",
       "      <td>0</td>\n",
       "      <td>1</td>\n",
       "      <td>1</td>\n",
       "      <td>1</td>\n",
       "      <td>0</td>\n",
       "    </tr>\n",
       "  </tbody>\n",
       "</table>\n",
       "<p>2 rows × 21 columns</p>\n",
       "</div>"
      ],
      "text/plain": [
       "              eyecatcher_id  \\\n",
       "0  5332b4f11fae79f09f0000a8   \n",
       "1  5332b4f11fae79f09f0000a8   \n",
       "\n",
       "                                                lede  \\\n",
       "0  <p>Somewhere in between the vast, evil conspir...   \n",
       "1  <p>Somewhere in between the vast, evil conspir...   \n",
       "\n",
       "                            excerpt      clickability_test_id      ctr1  \\\n",
       "0  Things that matter. Pass 'em on.  532088a8c532cfc755000042  0.023810   \n",
       "1  Things that matter. Pass 'em on.  532088a8c532cfc755000042  0.020756   \n",
       "\n",
       "       ctr2                                          headline1  \\\n",
       "0  0.010676  I Never Would Have Noticed This Crazy Gender I...   \n",
       "1  0.010676  A Group Of Women Had A Hypothesis About Sexism...   \n",
       "\n",
       "                                           headline2             date_created  \\\n",
       "0  Numbers We Need To Know About The Names We See...  2014-03-12 22:10:26.299   \n",
       "1  Numbers We Need To Know About The Names We See...   2014-03-12 22:05:12.68   \n",
       "\n",
       "   numwords1  ...  first_person_singular1_indicator  \\\n",
       "0         16  ...                                 1   \n",
       "1         19  ...                                 1   \n",
       "\n",
       "   first_person_singular2_indicator  first_person_plural1_indicator  \\\n",
       "0                                 1                               1   \n",
       "1                                 1                               0   \n",
       "\n",
       "   first_person_plural2_indicator  second_person1_indicator  \\\n",
       "0                               1                         0   \n",
       "1                               1                         0   \n",
       "\n",
       "   second_person2_indicator  third_person_singular1_indicator  \\\n",
       "0                         0                                 1   \n",
       "1                         0                                 1   \n",
       "\n",
       "   third_person_singular2_indicator  third_person_plural1_indicator  \\\n",
       "0                                 1                               0   \n",
       "1                                 1                               1   \n",
       "\n",
       "   third_person_plural2_indicator  \n",
       "0                               0  \n",
       "1                               0  \n",
       "\n",
       "[2 rows x 21 columns]"
      ]
     },
     "execution_count": 25,
     "metadata": {},
     "output_type": "execute_result"
    }
   ],
   "source": [
    "\n",
    "for feature, pronouns in feature_wordsets.items():\n",
    "    for i in range(1, 3): \n",
    "        column_name = f\"{feature}{i}_indicator\"\n",
    "        new_df_pair[column_name] = new_df_pair[f'headline{i}'].apply(lambda x: any(word.lower() in x.lower() for word in pronouns)).astype(int)\n",
    "\n",
    "\n",
    "new_df_pair.head(2)\n"
   ]
  },
  {
   "cell_type": "markdown",
   "id": "00795a15",
   "metadata": {},
   "source": [
    "2.3 One easy way to classify sentiment is simply to match negative or positive words. \n",
    "    Use the lists of words (positive and negative files in `data` folder) to obtain \"positive sentiment\" and \"negative sentiment\" scores for each headline. Create columns `positive1`/`positive2` and `negative1`/`negative2` containing indicator variables for positive and negative sentiment, i.e., A headline has a \"positive sentiment\" (or negative) score equal 1 if it contains at least one positive (or negative) sentiment word on the list. Otherwise, its \"positive sentiment\" (or negative) score equals 0.\n",
    "    \n",
    "[1]: https://ptrckprry.com/course/ssd/data/positive-words.txt\n",
    "[2]: https://ptrckprry.com/course/ssd/data/negative-words.txt\n",
    "\n",
    "--- \n",
    "\n",
    "**Comments**\n",
    "\n",
    "- For **T2.3**, beware of encodings!"
   ]
  },
  {
   "cell_type": "code",
   "execution_count": 26,
   "metadata": {},
   "outputs": [],
   "source": [
    "with open('data/negative-words.txt', 'r') as file:\n",
    "    words = file.read().splitlines()\n",
    "\n",
    "negative_words = pd.DataFrame(words, columns=['negative_words'])\n",
    "\n",
    "with open('data/positive-words.txt', 'r') as file:\n",
    "    words = file.read().splitlines()\n",
    "\n",
    "positive_words = pd.DataFrame(words, columns=['positive_words'])\n",
    "\n",
    "for i in range(1, 3):  \n",
    "    column_name_positive = f\"positive{i}\"\n",
    "    column_name_negative = f\"negative{i}\"\n",
    "    \n",
    "    new_df_pair[column_name_positive] = new_df_pair[f'headline{i}'].apply(\n",
    "        lambda x: any(word.lower() in x.lower() for word in positive_words['positive_words'])\n",
    "    ).astype(int)\n",
    "    \n",
    "    new_df_pair[column_name_negative] = new_df_pair[f'headline{i}'].apply(\n",
    "        lambda x: any(word.lower() in x.lower() for word in negative_words['negative_words'])\n",
    "    ).astype(int)\n",
    "\n",
    "\n"
   ]
  },
  {
   "cell_type": "code",
   "execution_count": 27,
   "metadata": {},
   "outputs": [
    {
     "data": {
      "text/html": [
       "<div>\n",
       "<style scoped>\n",
       "    .dataframe tbody tr th:only-of-type {\n",
       "        vertical-align: middle;\n",
       "    }\n",
       "\n",
       "    .dataframe tbody tr th {\n",
       "        vertical-align: top;\n",
       "    }\n",
       "\n",
       "    .dataframe thead th {\n",
       "        text-align: right;\n",
       "    }\n",
       "</style>\n",
       "<table border=\"1\" class=\"dataframe\">\n",
       "  <thead>\n",
       "    <tr style=\"text-align: right;\">\n",
       "      <th></th>\n",
       "      <th>eyecatcher_id</th>\n",
       "      <th>lede</th>\n",
       "      <th>excerpt</th>\n",
       "      <th>clickability_test_id</th>\n",
       "      <th>ctr1</th>\n",
       "      <th>ctr2</th>\n",
       "      <th>headline1</th>\n",
       "      <th>headline2</th>\n",
       "      <th>date_created</th>\n",
       "      <th>numwords1</th>\n",
       "      <th>...</th>\n",
       "      <th>second_person1_indicator</th>\n",
       "      <th>second_person2_indicator</th>\n",
       "      <th>third_person_singular1_indicator</th>\n",
       "      <th>third_person_singular2_indicator</th>\n",
       "      <th>third_person_plural1_indicator</th>\n",
       "      <th>third_person_plural2_indicator</th>\n",
       "      <th>positive1</th>\n",
       "      <th>negative1</th>\n",
       "      <th>positive2</th>\n",
       "      <th>negative2</th>\n",
       "    </tr>\n",
       "  </thead>\n",
       "  <tbody>\n",
       "    <tr>\n",
       "      <th>0</th>\n",
       "      <td>5332b4f11fae79f09f0000a8</td>\n",
       "      <td>&lt;p&gt;Somewhere in between the vast, evil conspir...</td>\n",
       "      <td>Things that matter. Pass 'em on.</td>\n",
       "      <td>532088a8c532cfc755000042</td>\n",
       "      <td>0.023810</td>\n",
       "      <td>0.010676</td>\n",
       "      <td>I Never Would Have Noticed This Crazy Gender I...</td>\n",
       "      <td>Numbers We Need To Know About The Names We See...</td>\n",
       "      <td>2014-03-12 22:10:26.299</td>\n",
       "      <td>16</td>\n",
       "      <td>...</td>\n",
       "      <td>0</td>\n",
       "      <td>0</td>\n",
       "      <td>1</td>\n",
       "      <td>1</td>\n",
       "      <td>0</td>\n",
       "      <td>0</td>\n",
       "      <td>0</td>\n",
       "      <td>1</td>\n",
       "      <td>0</td>\n",
       "      <td>1</td>\n",
       "    </tr>\n",
       "    <tr>\n",
       "      <th>1</th>\n",
       "      <td>5332b4f11fae79f09f0000a8</td>\n",
       "      <td>&lt;p&gt;Somewhere in between the vast, evil conspir...</td>\n",
       "      <td>Things that matter. Pass 'em on.</td>\n",
       "      <td>532088a8c532cfc755000042</td>\n",
       "      <td>0.020756</td>\n",
       "      <td>0.010676</td>\n",
       "      <td>A Group Of Women Had A Hypothesis About Sexism...</td>\n",
       "      <td>Numbers We Need To Know About The Names We See...</td>\n",
       "      <td>2014-03-12 22:05:12.68</td>\n",
       "      <td>19</td>\n",
       "      <td>...</td>\n",
       "      <td>0</td>\n",
       "      <td>0</td>\n",
       "      <td>1</td>\n",
       "      <td>1</td>\n",
       "      <td>1</td>\n",
       "      <td>0</td>\n",
       "      <td>0</td>\n",
       "      <td>1</td>\n",
       "      <td>0</td>\n",
       "      <td>1</td>\n",
       "    </tr>\n",
       "    <tr>\n",
       "      <th>2</th>\n",
       "      <td>5332b4f11fae79f09f0000a8</td>\n",
       "      <td>&lt;p&gt;Somewhere in between the vast, evil conspir...</td>\n",
       "      <td>Things that matter. Pass 'em on.</td>\n",
       "      <td>532088a8c532cfc755000042</td>\n",
       "      <td>0.021956</td>\n",
       "      <td>0.010676</td>\n",
       "      <td>The Unconscious Biases Of Even Extremely Educa...</td>\n",
       "      <td>Numbers We Need To Know About The Names We See...</td>\n",
       "      <td>2014-03-12 22:02:20.69</td>\n",
       "      <td>9</td>\n",
       "      <td>...</td>\n",
       "      <td>0</td>\n",
       "      <td>0</td>\n",
       "      <td>1</td>\n",
       "      <td>1</td>\n",
       "      <td>0</td>\n",
       "      <td>0</td>\n",
       "      <td>1</td>\n",
       "      <td>1</td>\n",
       "      <td>0</td>\n",
       "      <td>1</td>\n",
       "    </tr>\n",
       "  </tbody>\n",
       "</table>\n",
       "<p>3 rows × 25 columns</p>\n",
       "</div>"
      ],
      "text/plain": [
       "              eyecatcher_id  \\\n",
       "0  5332b4f11fae79f09f0000a8   \n",
       "1  5332b4f11fae79f09f0000a8   \n",
       "2  5332b4f11fae79f09f0000a8   \n",
       "\n",
       "                                                lede  \\\n",
       "0  <p>Somewhere in between the vast, evil conspir...   \n",
       "1  <p>Somewhere in between the vast, evil conspir...   \n",
       "2  <p>Somewhere in between the vast, evil conspir...   \n",
       "\n",
       "                            excerpt      clickability_test_id      ctr1  \\\n",
       "0  Things that matter. Pass 'em on.  532088a8c532cfc755000042  0.023810   \n",
       "1  Things that matter. Pass 'em on.  532088a8c532cfc755000042  0.020756   \n",
       "2  Things that matter. Pass 'em on.  532088a8c532cfc755000042  0.021956   \n",
       "\n",
       "       ctr2                                          headline1  \\\n",
       "0  0.010676  I Never Would Have Noticed This Crazy Gender I...   \n",
       "1  0.010676  A Group Of Women Had A Hypothesis About Sexism...   \n",
       "2  0.010676  The Unconscious Biases Of Even Extremely Educa...   \n",
       "\n",
       "                                           headline2             date_created  \\\n",
       "0  Numbers We Need To Know About The Names We See...  2014-03-12 22:10:26.299   \n",
       "1  Numbers We Need To Know About The Names We See...   2014-03-12 22:05:12.68   \n",
       "2  Numbers We Need To Know About The Names We See...   2014-03-12 22:02:20.69   \n",
       "\n",
       "   numwords1  ...  second_person1_indicator  second_person2_indicator  \\\n",
       "0         16  ...                         0                         0   \n",
       "1         19  ...                         0                         0   \n",
       "2          9  ...                         0                         0   \n",
       "\n",
       "   third_person_singular1_indicator  third_person_singular2_indicator  \\\n",
       "0                                 1                                 1   \n",
       "1                                 1                                 1   \n",
       "2                                 1                                 1   \n",
       "\n",
       "   third_person_plural1_indicator  third_person_plural2_indicator  positive1  \\\n",
       "0                               0                               0          0   \n",
       "1                               1                               0          0   \n",
       "2                               0                               0          1   \n",
       "\n",
       "   negative1  positive2  negative2  \n",
       "0          1          0          1  \n",
       "1          1          0          1  \n",
       "2          1          0          1  \n",
       "\n",
       "[3 rows x 25 columns]"
      ]
     },
     "execution_count": 27,
     "metadata": {},
     "output_type": "execute_result"
    }
   ],
   "source": [
    "new_df_pair.head(3)"
   ]
  },
  {
   "cell_type": "code",
   "execution_count": 28,
   "id": "6db63064",
   "metadata": {},
   "outputs": [],
   "source": [
    "# 2.1 (provided code)\n",
    "def count_words_simple(x):\n",
    "    return len(x.split(\" \"))\n"
   ]
  },
  {
   "cell_type": "code",
   "execution_count": 29,
   "id": "dc716364",
   "metadata": {},
   "outputs": [],
   "source": [
    "# 2.2 (provided code)\n",
    "feature_wordsets = dict([\n",
    "    # https://en.wikipedia.org/wiki/English_personal_pronouns\n",
    "    ('first_person_singular', ['i', 'me', 'my', 'mine', 'myself',\n",
    "                               \"i'd\", \"i'll\", \"i'm\", \"i've\", 'id', 'im', 'ive']),\n",
    "    ('first_person_plural', ['we', 'us', 'our', 'ours', 'ourselves',\n",
    "                              \"we'd\", \"we'll\", \"we're\", \"we've\",]),\n",
    "    ('second_person', ['you','your','yours','yourself',\n",
    "                              \"ya\", \"you'd\", \"you'll\", \"you're\", \"you've\", 'youll', 'youre', 'youve', \n",
    "                              'yourselves']),\n",
    "    ('third_person_singular', ['he','him','his','himself',\n",
    "                               \"he'd\", \"he's\", 'hes',\n",
    "                               'she','her','hers','herself', \n",
    "                               \"she'll\", \"she's\", 'shes',\n",
    "                               'it','its','itself',\n",
    "                               'themself']),\n",
    "    ('third_person_plural', ['they','them','their','theirs','themselves',\n",
    "                              \"they'd\", \"they'll\", \"they've\", 'theyll', 'theyve'])\n",
    "])"
   ]
  },
  {
   "cell_type": "markdown",
   "id": "6b0dbc2d",
   "metadata": {},
   "source": [
    "## 3 Estimating the Effect of Language on Headline Success\n",
    "\n",
    "Your third task revolves around the question *how does language impact headlines' success?*\n",
    "\n",
    "3.1 First, we examine whether the winner headlines have more or fewer words than the loser headline. Conduct an independent sample t-test and paired t-test (see [scipy.stats](https://docs.scipy.org/doc/scipy/reference/generated/scipy.stats.ttest_ind.html#scipy.stats.ttest_ind); for the independent sample t-test, assume equal variance). Also, calculate and print the mean difference between the number of words in the winner and the loser headlines."
   ]
  },
  {
   "cell_type": "code",
   "execution_count": 30,
   "id": "fbd6bd1a",
   "metadata": {},
   "outputs": [
    {
     "name": "stdout",
     "output_type": "stream",
     "text": [
      "Independent Sample T-test:\n",
      "T-statistic: 7.940739434290007\n",
      "P-value: 2.076538765779947e-15\n",
      "\n",
      "Paired T-test:\n",
      "T-statistic: 9.593643777472106\n",
      "P-value: 9.75635977792992e-22\n",
      "\n",
      "Mean Difference between the number of words in winner and loser headlines: 0.2749489535477284\n"
     ]
    }
   ],
   "source": [
    "from scipy import stats\n",
    "\n",
    "\n",
    "independent_ttest = stats.ttest_ind(new_df_pair['numwords1'], new_df_pair['numwords2'], equal_var=True)\n",
    "print(\"Independent Sample T-test:\")\n",
    "print(\"T-statistic:\", independent_ttest.statistic)\n",
    "print(\"P-value:\", independent_ttest.pvalue)\n",
    "\n",
    "print()\n",
    "\n",
    "paired_ttest = stats.ttest_rel(new_df_pair['numwords1'], new_df_pair['numwords2'])\n",
    "print(\"Paired T-test:\")\n",
    "print(\"T-statistic:\", paired_ttest.statistic)\n",
    "print(\"P-value:\", paired_ttest.pvalue)\n",
    "\n",
    "print()\n",
    "\n",
    "mean_difference = (new_df_pair['numwords1'] - new_df_pair['numwords2']).mean()\n",
    "print(\"Mean Difference between the number of words in winner and loser headlines:\", mean_difference)\n",
    "\n"
   ]
  },
  {
   "cell_type": "markdown",
   "id": "26623182",
   "metadata": {},
   "source": [
    "3.2 **Discuss:** Are longer headlines more successful? Justify."
   ]
  },
  {
   "cell_type": "markdown",
   "id": "677d42e0",
   "metadata": {},
   "source": [
    "The P-values calculated are significantly small so the null hypothesis (headline length has no effect on clickthrough rate) is rejected completely. Also the mean difference of words in winner and loser headlines is positive so the longer headlines have more chance of succeeding.\n",
    "  "
   ]
  },
  {
   "cell_type": "markdown",
   "id": "f6929c83",
   "metadata": {},
   "source": [
    "3.3 The [t-statistic](https://en.wikipedia.org/wiki/T-statistic) is the ratio of the departure of the estimated value of a parameter from its hypothesized value to its standard error. In a t-test, the higher the t-statistic, the more confidently we can reject the null hypothesis. Use `numpy.random` to create four samples, each of size 30:\n",
    "- $X \\sim Uniform(0,1)$\n",
    "- $Y \\sim Uniform(0,1)$\n",
    "- $Z = X/2 + Y/2 + 0.1$\n",
    "- $K = Y + 0.1$"
   ]
  },
  {
   "cell_type": "code",
   "execution_count": 93,
   "id": "d542de02",
   "metadata": {},
   "outputs": [],
   "source": [
    "X = np.random.uniform(0, 1, 30)\n",
    "Y = np.random.uniform(0, 1, 30)\n",
    "Z = X/2 + Y/2 + 0.1\n",
    "K = Y + 0.1"
   ]
  },
  {
   "cell_type": "markdown",
   "id": "2294023e",
   "metadata": {},
   "source": [
    "3.4 **Discuss:** What are the expected values and the variance of $X$, $Y$, $Z$, and $K$? (You don't need to justify them!)"
   ]
  },
  {
   "cell_type": "markdown",
   "metadata": {},
   "source": [
    "X and Y have same $E$ since they come from the distribution.\n",
    "\n",
    "Z's expected value is 0.6.\n",
    "\n",
    "K's expected value is 0.7."
   ]
  },
  {
   "cell_type": "markdown",
   "id": "0b12b5bb",
   "metadata": {},
   "source": [
    "3.5 Run the following simulation 10000 times, storing the $p$-values for the tests at each run:\n",
    "- Sample new values  for $X$, $Y$, $Z$ and $K$ ($n=30$ each). \n",
    "- Run independent sample t-test (assuming equal variance) and paired t-test comparing $X$ and $Z$.\n",
    "-  Run independent sample t-test (assuming equal variance) and paired t-test comparing $X$ and $K$."
   ]
  },
  {
   "cell_type": "code",
   "execution_count": 31,
   "metadata": {},
   "outputs": [],
   "source": [
    "independent_XZ = []\n",
    "paired_XZ = []\n",
    "independent_XK = []\n",
    "paired_XK = []\n",
    "\n",
    "\n",
    "for i in range(10000):\n",
    "\n",
    "    X = np.random.uniform(0, 1, 30)\n",
    "    Y = np.random.uniform(0, 1, 30)\n",
    "    Z = X/2 + Y/2 + 0.1\n",
    "    K = Y + 0.1\n",
    "    \n",
    "    indep_XZ = stats.ttest_ind(X, Z, equal_var=True).pvalue\n",
    "    pair_XZ = stats.ttest_rel(X, Z).pvalue\n",
    "    indep_XK = stats.ttest_ind(X, K, equal_var=True).pvalue\n",
    "    pair_XK = stats.ttest_rel(X, K).pvalue\n",
    "    \n",
    "    independent_XZ.append(indep_XZ)\n",
    "    paired_XZ.append(pair_XZ)\n",
    "    independent_XK.append(indep_XK)\n",
    "    paired_XK.append(pair_XK)"
   ]
  },
  {
   "cell_type": "markdown",
   "id": "f484626b",
   "metadata": {},
   "source": [
    "3.6 Recall that the power of a binary hypothesis test is the probability that the test correctly rejects the null hypothesis when the alternative hypothesis is true. Using the p-values and assuming that we reject the null hypothesis if $p < 0.05$, calculate the statistical power of:\n",
    "- The independent sample t-test comparing $X$ and $Z$.\n",
    "- The paired t-test comparing $X$ and $Z$.\n",
    "- The independent sample t-test comparing $X$ and $K$.\n",
    "- The paired t-test comparing $X$ and $K$."
   ]
  },
  {
   "cell_type": "code",
   "execution_count": 34,
   "id": "c2a5a83a",
   "metadata": {},
   "outputs": [
    {
     "name": "stdout",
     "output_type": "stream",
     "text": [
      "power of independent XZ test:  0.8151522350363555\n",
      "power of paired XZ test:  0.9373304868936694\n",
      "power of independent XK test:  0.708982945780205\n",
      "power of paired XK test:  0.7073557314749658\n"
     ]
    }
   ],
   "source": [
    "indep_XZ_power = [1 - x for x in independent_XZ]\n",
    "pair_XZ_power = [1 - x for x in paired_XZ]\n",
    "indep_XK_power = [1 - x for x in independent_XK]\n",
    "pair_XK_power = [1 - x for x in paired_XK]\n",
    "\n",
    "print('power of independent XZ test: ', np.asarray(indep_XZ_power).mean())\n",
    "print('power of paired XZ test: ', np.asarray(pair_XZ_power).mean())\n",
    "print('power of independent XK test: ', np.asarray(indep_XK_power).mean())\n",
    "print('power of paired XK test: ', np.asarray(pair_XK_power).mean())\n",
    "\n"
   ]
  },
  {
   "cell_type": "markdown",
   "id": "17639184",
   "metadata": {},
   "source": [
    "3.7 **Discuss:** When are paired t-tests helpful? Justify."
   ]
  },
  {
   "cell_type": "markdown",
   "metadata": {},
   "source": [
    "Paired t-tests are helpful in situations where the data has a paired or matched structure, and where each observation in one group has a correspondence or pairing with an observation in the other group"
   ]
  },
  {
   "cell_type": "markdown",
   "id": "3f37fa83",
   "metadata": {},
   "source": [
    "3.8 With a bootstrapping approach (implemented by yourself, you should not use existing bootstrapping functions), estimate the average difference and 95% confidence intervals for:\n",
    "- the mean ratio between the number of words in the winner headline and the loser headline (i.e., the number of words in the winner headline divided by the number of words in the loser headlines).\n",
    "- the difference in usage of positive words between winner and loser headlines.\n",
    "- the difference in usage of negative words between winner and loser headlines.\n",
    "- The difference in usage of each type of pronoun between winner and loser headlines."
   ]
  },
  {
   "cell_type": "markdown",
   "metadata": {},
   "source": [
    "### number of words"
   ]
  },
  {
   "cell_type": "code",
   "execution_count": 35,
   "id": "63b1d903",
   "metadata": {},
   "outputs": [
    {
     "name": "stdout",
     "output_type": "stream",
     "text": [
      "Mean Ratio between Number of Words (Winner/Loser): 1.0185311016307714\n",
      "95% Confidence Interval: [1.01385122 1.02295371]\n"
     ]
    }
   ],
   "source": [
    "import numpy as np\n",
    "\n",
    "mean_ratio = np.mean(new_df_pair['numwords1']) / np.mean(new_df_pair['numwords2'])\n",
    "\n",
    "num_iterations = 1000\n",
    "bootstrap_ratios = []\n",
    "for _ in range(num_iterations):\n",
    "    bootstrap_numwords1 = np.random.choice(new_df_pair['numwords1'], len(new_df_pair['numwords1']), replace=True)\n",
    "    bootstrap_numwords2 = np.random.choice(new_df_pair['numwords2'], len(new_df_pair['numwords2']), replace=True)\n",
    "    bootstrap_ratio = np.mean(bootstrap_numwords1) / np.mean(bootstrap_numwords2)\n",
    "    bootstrap_ratios.append(bootstrap_ratio)\n",
    "\n",
    "confidence_interval = np.percentile(bootstrap_ratios, [2.5, 97.5])\n",
    "\n",
    "print(\"Mean Ratio between Number of Words (Winner/Loser):\", mean_ratio)\n",
    "print(\"95% Confidence Interval:\", confidence_interval)\n"
   ]
  },
  {
   "cell_type": "markdown",
   "metadata": {},
   "source": [
    "### positive words"
   ]
  },
  {
   "cell_type": "code",
   "execution_count": 36,
   "metadata": {},
   "outputs": [
    {
     "name": "stdout",
     "output_type": "stream",
     "text": [
      "Difference in Usage of Positive Words (Winner - Loser): 0.004977029096477792\n",
      "95% Confidence Interval: [-0.00689127  0.01678312]\n"
     ]
    }
   ],
   "source": [
    "# Assuming positive1 and positive2 are arrays/series indicating presence of positive words in winner and loser headlines\n",
    "# Calculate the difference in usage of positive words\n",
    "positive_difference = np.mean(new_df_pair['positive1']) - np.mean(new_df_pair['positive2'])\n",
    "\n",
    "# Bootstrapping for positive word difference estimation\n",
    "bootstrap_pos_diff = []\n",
    "for _ in range(num_iterations):\n",
    "    bootstrap_pos1 = np.random.choice(new_df_pair['positive1'], len(new_df_pair['positive1']), replace=True)\n",
    "    bootstrap_pos2 = np.random.choice(new_df_pair['positive2'], len(new_df_pair['positive2']), replace=True)\n",
    "    bootstrap_diff = np.mean(bootstrap_pos1) - np.mean(bootstrap_pos2)\n",
    "    bootstrap_pos_diff.append(bootstrap_diff)\n",
    "\n",
    "# Calculate 95% confidence interval for positive word difference\n",
    "confidence_interval_pos = np.percentile(bootstrap_pos_diff, [2.5, 97.5])\n",
    "\n",
    "# Display results\n",
    "print(\"Difference in Usage of Positive Words (Winner - Loser):\", positive_difference)\n",
    "print(\"95% Confidence Interval:\", confidence_interval_pos)\n"
   ]
  },
  {
   "cell_type": "markdown",
   "metadata": {},
   "source": [
    "### negative words"
   ]
  },
  {
   "cell_type": "code",
   "execution_count": 37,
   "metadata": {},
   "outputs": [
    {
     "name": "stdout",
     "output_type": "stream",
     "text": [
      "Difference in Usage of Negative Words (Winner - Loser): 0.014867279224093921\n",
      "95% Confidence Interval: [0.00574113 0.02590607]\n"
     ]
    }
   ],
   "source": [
    "negative_difference = np.mean(new_df_pair['negative1']) - np.mean(new_df_pair['negative2'])\n",
    "\n",
    "bootstrap_neg_diff = []\n",
    "for _ in range(num_iterations):\n",
    "    bootstrap_neg1 = np.random.choice(new_df_pair['negative1'], len(new_df_pair['negative1']), replace=True)\n",
    "    bootstrap_neg2 = np.random.choice(new_df_pair['negative2'], len(new_df_pair['negative2']), replace=True)\n",
    "    bootstrap_diff = np.mean(bootstrap_neg1) - np.mean(bootstrap_neg2)\n",
    "    bootstrap_neg_diff.append(bootstrap_diff)\n",
    "\n",
    "confidence_interval_neg = np.percentile(bootstrap_neg_diff, [2.5, 97.5])\n",
    "\n",
    "print(\"Difference in Usage of Negative Words (Winner - Loser):\", negative_difference)\n",
    "print(\"95% Confidence Interval:\", confidence_interval_neg)\n"
   ]
  },
  {
   "cell_type": "markdown",
   "metadata": {},
   "source": [
    "### first person singular"
   ]
  },
  {
   "cell_type": "code",
   "execution_count": 41,
   "metadata": {},
   "outputs": [
    {
     "name": "stdout",
     "output_type": "stream",
     "text": [
      "Difference in Usage of first person singular Words (Winner - Loser): 0.0017866258295048398\n",
      "95% Confidence Interval: [-0.00019142  0.00382848]\n"
     ]
    }
   ],
   "source": [
    "negative_difference = np.mean(new_df_pair['first_person_singular1_indicator']) - np.mean(new_df_pair['first_person_singular2_indicator'])\n",
    "\n",
    "bootstrapf_diff = []\n",
    "for _ in range(num_iterations):\n",
    "    bootstrap_neg1 = np.random.choice(new_df_pair['first_person_singular1_indicator'], len(new_df_pair['first_person_singular1_indicator']), replace=True)\n",
    "    bootstrap_neg2 = np.random.choice(new_df_pair['first_person_singular2_indicator'], len(new_df_pair['first_person_singular2_indicator']), replace=True)\n",
    "    bootstrap_diff = np.mean(bootstrap_neg1) - np.mean(bootstrap_neg2)\n",
    "    bootstrapf_diff.append(bootstrap_diff)\n",
    "\n",
    "confidence_interval_neg = np.percentile(bootstrapf_diff, [2.5, 97.5])\n",
    "\n",
    "print(\"Difference in Usage of first person singular Words (Winner - Loser):\", negative_difference)\n",
    "print(\"95% Confidence Interval:\", confidence_interval_neg)\n"
   ]
  },
  {
   "cell_type": "markdown",
   "metadata": {},
   "source": [
    "### first person plural"
   ]
  },
  {
   "cell_type": "code",
   "execution_count": 42,
   "metadata": {},
   "outputs": [
    {
     "name": "stdout",
     "output_type": "stream",
     "text": [
      "Difference in Usage of first person plural Words (Winner - Loser): -0.010847371107708004\n",
      "95% Confidence Interval: [-0.02163253 -0.00012124]\n"
     ]
    }
   ],
   "source": [
    "negative_difference = np.mean(new_df_pair['first_person_plural1_indicator']) - np.mean(new_df_pair['first_person_plural2_indicator'])\n",
    "\n",
    "bootstrapf_diff = []\n",
    "for _ in range(num_iterations):\n",
    "    bootstrap_neg1 = np.random.choice(new_df_pair['first_person_plural1_indicator'], len(new_df_pair['first_person_plural1_indicator']), replace=True)\n",
    "    bootstrap_neg2 = np.random.choice(new_df_pair['first_person_plural2_indicator'], len(new_df_pair['first_person_plural2_indicator']), replace=True)\n",
    "    bootstrap_diff = np.mean(bootstrap_neg1) - np.mean(bootstrap_neg2)\n",
    "    bootstrapf_diff.append(bootstrap_diff)\n",
    "\n",
    "confidence_interval_neg = np.percentile(bootstrapf_diff, [2.5, 97.5])\n",
    "\n",
    "print(\"Difference in Usage of first person plural Words (Winner - Loser):\", negative_difference)\n",
    "print(\"95% Confidence Interval:\", confidence_interval_neg)\n"
   ]
  },
  {
   "cell_type": "markdown",
   "metadata": {},
   "source": [
    "### second person"
   ]
  },
  {
   "cell_type": "code",
   "execution_count": 43,
   "metadata": {},
   "outputs": [
    {
     "name": "stdout",
     "output_type": "stream",
     "text": [
      "Difference in Usage of second person Words (Winner - Loser): 0.0014037774374681122\n",
      "95% Confidence Interval: [-0.00829505  0.01142164]\n"
     ]
    }
   ],
   "source": [
    "negative_difference = np.mean(new_df_pair['second_person1_indicator']) - np.mean(new_df_pair['second_person2_indicator'])\n",
    "\n",
    "bootstrapf_diff = []\n",
    "for _ in range(num_iterations):\n",
    "    bootstrap_neg1 = np.random.choice(new_df_pair['second_person1_indicator'], len(new_df_pair['second_person1_indicator']), replace=True)\n",
    "    bootstrap_neg2 = np.random.choice(new_df_pair['second_person2_indicator'], len(new_df_pair['second_person2_indicator']), replace=True)\n",
    "    bootstrap_diff = np.mean(bootstrap_neg1) - np.mean(bootstrap_neg2)\n",
    "    bootstrapf_diff.append(bootstrap_diff)\n",
    "\n",
    "confidence_interval_neg = np.percentile(bootstrapf_diff, [2.5, 97.5])\n",
    "\n",
    "print(\"Difference in Usage of second person Words (Winner - Loser):\", negative_difference)\n",
    "print(\"95% Confidence Interval:\", confidence_interval_neg)\n"
   ]
  },
  {
   "cell_type": "markdown",
   "metadata": {},
   "source": [
    "### third person singular"
   ]
  },
  {
   "cell_type": "code",
   "execution_count": 44,
   "metadata": {},
   "outputs": [
    {
     "name": "stdout",
     "output_type": "stream",
     "text": [
      "Difference in Usage of third person singular Words (Winner - Loser): 0.01320826952526799\n",
      "95% Confidence Interval: [0.00676206 0.01997352]\n"
     ]
    }
   ],
   "source": [
    "negative_difference = np.mean(new_df_pair['third_person_singular1_indicator']) - np.mean(new_df_pair['third_person_singular2_indicator'])\n",
    "\n",
    "bootstrapf_diff = []\n",
    "for _ in range(num_iterations):\n",
    "    bootstrap_neg1 = np.random.choice(new_df_pair['third_person_singular1_indicator'], len(new_df_pair['third_person_singular1_indicator']), replace=True)\n",
    "    bootstrap_neg2 = np.random.choice(new_df_pair['third_person_singular2_indicator'], len(new_df_pair['third_person_singular2_indicator']), replace=True)\n",
    "    bootstrap_diff = np.mean(bootstrap_neg1) - np.mean(bootstrap_neg2)\n",
    "    bootstrapf_diff.append(bootstrap_diff)\n",
    "\n",
    "confidence_interval_neg = np.percentile(bootstrapf_diff, [2.5, 97.5])\n",
    "\n",
    "print(\"Difference in Usage of third person singular Words (Winner - Loser):\", negative_difference)\n",
    "print(\"95% Confidence Interval:\", confidence_interval_neg)\n"
   ]
  },
  {
   "cell_type": "markdown",
   "metadata": {},
   "source": [
    "### third person plural"
   ]
  },
  {
   "cell_type": "code",
   "execution_count": 45,
   "metadata": {},
   "outputs": [
    {
     "name": "stdout",
     "output_type": "stream",
     "text": [
      "Difference in Usage of third person plural Words (Winner - Loser): 0.002041858090862686\n",
      "95% Confidence Interval: [-0.00593415  0.01033691]\n"
     ]
    }
   ],
   "source": [
    "negative_difference = np.mean(new_df_pair['third_person_plural1_indicator']) - np.mean(new_df_pair['third_person_plural2_indicator'])\n",
    "\n",
    "bootstrapf_diff = []\n",
    "for _ in range(num_iterations):\n",
    "    bootstrap_neg1 = np.random.choice(new_df_pair['third_person_plural1_indicator'], len(new_df_pair['third_person_plural1_indicator']), replace=True)\n",
    "    bootstrap_neg2 = np.random.choice(new_df_pair['third_person_plural2_indicator'], len(new_df_pair['third_person_plural2_indicator']), replace=True)\n",
    "    bootstrap_diff = np.mean(bootstrap_neg1) - np.mean(bootstrap_neg2)\n",
    "    bootstrapf_diff.append(bootstrap_diff)\n",
    "\n",
    "confidence_interval_neg = np.percentile(bootstrapf_diff, [2.5, 97.5])\n",
    "\n",
    "print(\"Difference in Usage of third person plural Words (Winner - Loser):\", negative_difference)\n",
    "print(\"95% Confidence Interval:\", confidence_interval_neg)\n"
   ]
  },
  {
   "cell_type": "markdown",
   "id": "82ac4b5e",
   "metadata": {},
   "source": [
    "3.9 **Discuss:** According to the results obtained in **T3.8**, what headlines grab people's attention the most? Justify your answer."
   ]
  },
  {
   "cell_type": "markdown",
   "metadata": {},
   "source": [
    "We previously established that longer headlines tend to give better results. Furthermore we can see that using 'third person singular' and negative words tend to give better result but first person plural words tend to give relatively bad results."
   ]
  },
  {
   "cell_type": "markdown",
   "id": "572f0b46",
   "metadata": {},
   "source": [
    "---\n",
    "**Comments:**\n",
    "\n",
    "- Paired t-test formula: $t = \\frac{\\overline{x}_{\\mathrm{diff}}}{s_{\\mathrm{diff}} / \\sqrt n }$ where:\n",
    "    - $\\overline{x}_{\\mathrm{diff}}$ is the sample difference between the means of the matched sample; and\n",
    "    - $s_{\\mathrm{diff}}$ is the sample variance of the matched sample; and\n",
    "    - $n$ is the number of matched samples.\n",
    "    \n",
    "- Independent samples t-test formula: $t = \\frac{\\overline{x}_{1} - \\overline{x}_{2}}{\\sqrt{\\frac{s_{1}^{2}}{n_{1}} + \\frac{s_{2}^{2}}{n_{2}}}}$ where:\n",
    "    - $\\overline{x}_{\\mathrm{1}}$ is the sample mean of the first group; and\n",
    "    - $s_{\\mathrm{1}}$ is the sample variance of the first group; and\n",
    "    - $n_1$ is the number of samples in the first group;\n",
    "    \n",
    "     \n",
    "- t-tests are valid for samples of non-normal distribution for large enough samples (a rule of thumb used is: n $\\geq$ 30)!"
   ]
  },
  {
   "cell_type": "code",
   "execution_count": null,
   "id": "966c66d6",
   "metadata": {},
   "outputs": [],
   "source": []
  },
  {
   "cell_type": "markdown",
   "id": "1eba33ba",
   "metadata": {},
   "source": [
    "## Bonus. Temporal validity and heterogeneity of the effect.\n",
    "\n",
    "Last, we investigate how the effects studied in **T3** change with time and how they might be heterogeneous across different types of news.\n",
    "\n",
    "4.1 Create a plot where you depict the monthly average number of words in winner and loser headlines. Consider only headlines created after April 2013 (the month of April inclusive). Include also bootstrapped 95% confidence intervals; here, you can use a third-party implementation if you want. Finally, recall that we created a column `date_created` which captures the creation of the winner headline; you can consider this date to correspond to the date of the creation of the A/B test."
   ]
  },
  {
   "cell_type": "code",
   "execution_count": null,
   "id": "3afa4269",
   "metadata": {},
   "outputs": [],
   "source": []
  },
  {
   "cell_type": "markdown",
   "id": "bc0bff7a",
   "metadata": {},
   "source": [
    "4.2 Produce similar plots to each pronoun category, as well as for positive and negative sentiment. Here, unlike in **T4.1**, depict the month averages pooled across winner and loser headlines (i.e., for each month, you calculate the average across both winners and loser headlines).\n",
    "Create all these plots in a single figure with no more than 11 inches of width and 11 inches of height. Again, consider only headlines created after April 2013 (the month of April inclusive)."
   ]
  },
  {
   "cell_type": "code",
   "execution_count": null,
   "id": "f8d29241",
   "metadata": {},
   "outputs": [],
   "source": []
  },
  {
   "cell_type": "markdown",
   "id": "b565c28e",
   "metadata": {},
   "source": [
    "4.3 **Discuss:** Has the type of headline Upworthy used in their A/B tests changed with time? Are these changes likely to be producing more or less engaging headlines? Justify."
   ]
  },
  {
   "cell_type": "code",
   "execution_count": null,
   "id": "192a07d7",
   "metadata": {},
   "outputs": [],
   "source": []
  },
  {
   "cell_type": "markdown",
   "id": "ad3fca68",
   "metadata": {},
   "source": [
    "4.4 Divide your data into two periods, $t_1$, which goes from  April 2013 (inclusive) to March 2014 (inclusive), and $t_2$, which goes from April 2014 (inclusive) to the latest A/B test in the data. Create a dataframe for A/B tests in each period."
   ]
  },
  {
   "cell_type": "code",
   "execution_count": null,
   "id": "ef69d163",
   "metadata": {},
   "outputs": [],
   "source": []
  },
  {
   "cell_type": "markdown",
   "id": "f6f92312",
   "metadata": {},
   "source": [
    "4.5 Let's examine if the effects observed remained the same throughout the study period. Use an appropriate methodology  of your choice to determine if the effects observed in **T3.8** (length, each category of pronouns, positive words, and negative words) were different in $t_1$ and $t_2$. Here, note that we are considering \"at least one positive outcome\" to be the manifestation of an underlying effect, thus significance level must be adjusted down when performing multiple hypothesis tests!"
   ]
  },
  {
   "cell_type": "code",
   "execution_count": null,
   "id": "6a1b7bf2",
   "metadata": {},
   "outputs": [],
   "source": []
  },
  {
   "cell_type": "markdown",
   "id": "26e5271a",
   "metadata": {},
   "source": [
    "4.6 **Discuss:** Hypothesize two reasons that could have led to a change in the observed effects. According to the analysis done in **T4.5**, have the effects observed remained the same across the study period? "
   ]
  },
  {
   "cell_type": "markdown",
   "id": "8bc50688",
   "metadata": {},
   "source": []
  },
  {
   "cell_type": "markdown",
   "id": "e358c02f",
   "metadata": {},
   "source": [
    "4.7 The features we are studying may interact with each other. For instance, people may like first person singular pronouns in headlines containing positive words (you are amazing!), but dislike headlines with negative words and first person pronouns (you are awful!). To help answer this question, create:\n",
    "- A dataframe containing all A/B tests where both winner and loser headlines include a positive word.\n",
    "- A dataframe containing all A/B tests where both winner and loser headlines include a negative word."
   ]
  },
  {
   "cell_type": "code",
   "execution_count": null,
   "id": "ea48a0a6",
   "metadata": {},
   "outputs": [],
   "source": []
  },
  {
   "cell_type": "markdown",
   "id": "94b61a68",
   "metadata": {},
   "source": [
    "4.8 Using an appropriate methodology of your choice, determine if the effect of the use of first person singular pronouns in the headline is heterogeneous across headlines with positive words and negative words, i.e., is the effect significantly stronger for one of the dataframes created in **T4.7**? "
   ]
  },
  {
   "cell_type": "code",
   "execution_count": null,
   "id": "36b0d0de",
   "metadata": {},
   "outputs": [],
   "source": []
  },
  {
   "cell_type": "markdown",
   "id": "70888d20",
   "metadata": {},
   "source": [
    "4.9 **Discuss:** Considering the analyses you did throughout Tasks 3 and 4, write a short text (no more than 250 words) giving advice to Upworthy employees on how they should try to write engaging headlines. \n",
    "You can reference images present in the notebook by indicating a task (e.g., image plotted in **T3.3**) or a cell number. Note that you do not need to conduct any additional analysis to write this text. \n"
   ]
  },
  {
   "cell_type": "code",
   "execution_count": null,
   "id": "fd3dc9f2",
   "metadata": {},
   "outputs": [],
   "source": []
  },
  {
   "cell_type": "markdown",
   "id": "dd03895a",
   "metadata": {},
   "source": [
    "## 4 Summing up\n",
    "Now you have implemented the pipeliene to continiously compare various headlines against each other and even through time. So it's time to come back and think, was it worth the endeavor? In other words, can you think of any other ways to achieve the same goal? It is also time (or maybe even late!) to think of the ethics of what you have done!\n",
    "\n",
    "5.1 **Discuss:** Try to think of other solutions that would possibly achieve the same goal. Maybe with less precision but also less complexity, cost of implementation, etc. Briefly explain your suggestions and how they would compromise accuracy for other objectives.  \n",
    "What ethical pitfalls can you imagine for what you did in this homework? Do you think that such statistical analysis is immune to unethical engagement optimization? It's quite obvious that a horrifying, decieving, or offensive headline would trigger more interaction than a descent one.\n"
   ]
  },
  {
   "cell_type": "markdown",
   "id": "74aa428c",
   "metadata": {},
   "source": [
    "As we established, negative headlines would tend to attract more interaction so a company could attract more users by using more negative toned headlines. "
   ]
  },
  {
   "cell_type": "markdown",
   "metadata": {},
   "source": [
    "We could do testing with fewer variables. Instead of considering multiple attributes like eyecatcher, lede, excerpt, and headlines simultaneously, focus solely on headlines.\n",
    "\n",
    "We can use sentiment analysis on headlines to categorize them as positive, negative, or neutral. Then, compare the interaction rates across these sentiment categories. This approach might be less complex but might not be accurate."
   ]
  },
  {
   "cell_type": "markdown",
   "metadata": {},
   "source": [
    "Emphasizing negative or shocking content only for engagement could spread misinformation or create unnecessary panic.\n",
    "Or it could have impact on audience: Continuous exposure to negative content might affect the emotional well-being of the audience."
   ]
  },
  {
   "cell_type": "markdown",
   "id": "72e59cc8",
   "metadata": {},
   "source": [
    "5.2 **Discuss:** Briefly explain how you think we can handle this trade-off. In other words, what can we do to stop our pipeline from getting biased towards unethical headlines?"
   ]
  },
  {
   "cell_type": "markdown",
   "id": "eb7e380e",
   "metadata": {},
   "source": [
    " We can establish clear ethical guidelines for content creation. Implement a review process to ensure headlines adhere to these guidelines, avoiding content that is misleading or offensive.\n",
    " Or we can maintain transparency with users about how headlines are generated. Establish accountebility by documenting decisions and the logic behind headline choices."
   ]
  }
 ],
 "metadata": {
  "kernelspec": {
   "display_name": "Python 3 (ipykernel)",
   "language": "python",
   "name": "python3"
  },
  "language_info": {
   "codemirror_mode": {
    "name": "ipython",
    "version": 3
   },
   "file_extension": ".py",
   "mimetype": "text/x-python",
   "name": "python",
   "nbconvert_exporter": "python",
   "pygments_lexer": "ipython3",
   "version": "3.11.6"
  }
 },
 "nbformat": 4,
 "nbformat_minor": 5
}
